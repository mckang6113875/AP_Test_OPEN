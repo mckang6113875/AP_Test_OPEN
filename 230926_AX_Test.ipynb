{
  "nbformat": 4,
  "nbformat_minor": 0,
  "metadata": {
    "colab": {
      "provenance": [],
      "authorship_tag": "ABX9TyPspTjbpKQJkc1mD4hZFWRk",
      "include_colab_link": true
    },
    "kernelspec": {
      "name": "python3",
      "display_name": "Python 3"
    },
    "language_info": {
      "name": "python"
    }
  },
  "cells": [
    {
      "cell_type": "markdown",
      "metadata": {
        "id": "view-in-github",
        "colab_type": "text"
      },
      "source": [
        "<a href=\"https://colab.research.google.com/github/mckang6113875/AP_Test_OPEN/blob/main/230926_AX_Test.ipynb\" target=\"_parent\"><img src=\"https://colab.research.google.com/assets/colab-badge.svg\" alt=\"Open In Colab\"/></a>"
      ]
    },
    {
      "cell_type": "code",
      "execution_count": null,
      "metadata": {
        "id": "jTF3lx9LqRje"
      },
      "outputs": [],
      "source": [
        "! git clone https://github.com/mckang6113875/AP_Test_OPEN.git"
      ]
    },
    {
      "cell_type": "code",
      "source": [
        "import cv2\n",
        "import numpy as np\n",
        "from matplotlib import pyplot as plt\n",
        "from skimage import io\n",
        "from skimage import color\n",
        "from scipy import signal\n",
        "\n",
        "Affine = io.imread('/content/AP_Test_OPEN/Rail_road_2.png')\n",
        "rows, cols, ch = Affine.shape\n",
        "print(Affine.shape) #(588,1024), (294, 512)\n",
        "\n",
        "cv2.circle(Affine, (10,10), 10, (255,0,0),-1)\n",
        "cv2.circle(Affine, (410,10), 10, (0,255,0),-1)\n",
        "cv2.circle(Affine, (10,310), 10, (0,0,255),-1)\n",
        "\n",
        "pts1 = np.float32([[10,10],[410,10],[10,310]])\n",
        "pts2 = np.float32([[10,10],[410,10],[10,450]])\n",
        "\n",
        "M = cv2.getAffineTransform(pts1, pts2)\n",
        "\n",
        "dst = cv2.warpAffine(Affine, M, (cols,rows))\n",
        "\n",
        "fig, axs = plt.subplots(1,2, figsize = (20, 8))\n",
        "plt.subplot(121),plt.imshow(Affine),plt.title('image')\n",
        "plt.subplot(122),plt.imshow(dst),plt.title('Affine')\n",
        "plt.show()"
      ],
      "metadata": {
        "id": "pg_3N59BqeSa"
      },
      "execution_count": null,
      "outputs": []
    },
    {
      "cell_type": "code",
      "source": [
        "import cv2\n",
        "import numpy as np\n",
        "from matplotlib import pyplot as plot\n",
        "\n",
        "from skimage import io\n",
        "from skimage import color\n",
        "from scipy import signal\n",
        "\n",
        "img = io.imread('/content/AP_Test_OPEN/Rail_road_2.png')\n",
        "print(img.dtype)\n",
        "\n",
        "cv2.circle(img, (330, 500), 5, (255,0,0), -1)\n",
        "cv2.circle(img, (300, 550), 5, (0,255,0), -1)\n",
        "cv2.circle(img, (720, 500), 5, (0,0,255), -1)\n",
        "cv2.circle(img, (755, 550), 5, (0,0,0), -1)\n",
        "\n",
        "pts1 = np.float32([[330,500], [300, 550], [720, 500], [755,550]])\n",
        "pts2 = np.float32([[10,10], [10,150],[150,10], [150,150]])\n",
        "\n",
        "M = cv2.getPerspectiveTransform(pts1, pts2)\n",
        "\n",
        "dst = cv2.warpPerspective(img, M, (160, 160))\n",
        "\n",
        "fig, axs = plt.subplots(1,2, figsize = (20, 5))\n",
        "axs[0].imshow(img, cmap='gray')\n",
        "axs[1].imshow(dst, cmap='gray')\n",
        "txt= 'The result of Perspective Transformation'\n",
        "plt.figtext(0.5, 0.01, txt, wrap=True, ha='center', fontsize=12)\n",
        "plt.show"
      ],
      "metadata": {
        "id": "AH8gEj8hqgqR"
      },
      "execution_count": null,
      "outputs": []
    }
  ]
}