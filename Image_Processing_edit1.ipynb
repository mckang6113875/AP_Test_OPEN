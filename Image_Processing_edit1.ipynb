{
  "nbformat": 4,
  "nbformat_minor": 0,
  "metadata": {
    "colab": {
      "name": "Image_Processing_edit1.ipynb",
      "provenance": [],
      "toc_visible": true,
      "authorship_tag": "ABX9TyMnuq9+xCBwj4BA6j04dZwN",
      "include_colab_link": true
    },
    "kernelspec": {
      "name": "python3",
      "display_name": "Python 3"
    },
    "language_info": {
      "name": "python"
    }
  },
  "cells": [
    {
      "cell_type": "markdown",
      "metadata": {
        "id": "view-in-github",
        "colab_type": "text"
      },
      "source": [
        "<a href=\"https://colab.research.google.com/github/mckang6113875/AP_Test_OPEN/blob/main/Image_Processing_edit1.ipynb\" target=\"_parent\"><img src=\"https://colab.research.google.com/assets/colab-badge.svg\" alt=\"Open In Colab\"/></a>"
      ]
    },
    {
      "cell_type": "markdown",
      "source": [
        "# Canny edge detector\n",
        "The **Canny edge detector**\n",
        "5 step\n",
        "\n",
        "1. Noise reduction;\n",
        "2. Gradient calculation;\n",
        "3. Non-Maximum suppression;\n",
        "4. Double threshold;\n",
        "5. Edge tracking by hysterisis;"
      ],
      "metadata": {
        "id": "AKA78vnTu3Ow"
      }
    },
    {
      "cell_type": "code",
      "execution_count": 9,
      "metadata": {
        "colab": {
          "base_uri": "https://localhost:8080/"
        },
        "id": "c8f9F072t7gN",
        "outputId": "cb01c286-cb90-4cb1-ec5e-490d1416f1fd"
      },
      "outputs": [
        {
          "output_type": "stream",
          "name": "stdout",
          "text": [
            "Cloning into 'AP_Test_OPEN'...\n",
            "remote: Enumerating objects: 5, done.\u001b[K\n",
            "remote: Counting objects: 100% (5/5), done.\u001b[K\n",
            "remote: Compressing objects: 100% (5/5), done.\u001b[K\n",
            "remote: Total 5 (delta 0), reused 0 (delta 0), pack-reused 0\u001b[K\n",
            "Unpacking objects: 100% (5/5), done.\n"
          ]
        }
      ],
      "source": [
        "! git clone https://github.com/mckang6113875/AP_Test_OPEN.git"
      ]
    },
    {
      "cell_type": "markdown",
      "source": [
        "## 1. Noise reduction\n",
        "\n",
        "one way to get rid of the noise on the image, is by applying Gaussian blur to smooth:\n",
        "\n"
      ],
      "metadata": {
        "id": "ZH1s-JVB3w6s"
      }
    },
    {
      "cell_type": "code",
      "source": [
        "import numpy as np\n",
        "\n",
        "def gaussian_kernel (size, sigma = 1):\n",
        "  hsize = int (size) //2\n",
        "  x,y = np.mgrid[-hsize:hsize+1, -hsize:hsize+1]\n",
        "  normal = 1 / (2.0 * np.pi * sigma**2)\n",
        "  g = np.exp(-((x**2 + y**2) / (2.0*sigma**2))) * normal\n",
        "  return g\n",
        "\n",
        "  print (\"Define gaussin_kernel\")"
      ],
      "metadata": {
        "id": "LSNw5cyg7ETt"
      },
      "execution_count": 18,
      "outputs": []
    }
  ]
}