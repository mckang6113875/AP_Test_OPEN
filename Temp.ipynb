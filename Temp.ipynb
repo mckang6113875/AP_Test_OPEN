{
  "nbformat": 4,
  "nbformat_minor": 0,
  "metadata": {
    "colab": {
      "name": "Temp.ipynb",
      "provenance": [],
      "authorship_tag": "ABX9TyNYqwwtGxgEpLAOqWxUqvuN",
      "include_colab_link": true
    },
    "kernelspec": {
      "name": "python3",
      "display_name": "Python 3"
    },
    "language_info": {
      "name": "python"
    }
  },
  "cells": [
    {
      "cell_type": "markdown",
      "metadata": {
        "id": "view-in-github",
        "colab_type": "text"
      },
      "source": [
        "<a href=\"https://colab.research.google.com/github/mckang6113875/AP_Test_OPEN/blob/main/Temp.ipynb\" target=\"_parent\"><img src=\"https://colab.research.google.com/assets/colab-badge.svg\" alt=\"Open In Colab\"/></a>"
      ]
    },
    {
      "cell_type": "code",
      "execution_count": 11,
      "metadata": {
        "id": "7n0CWUDhfb0G"
      },
      "outputs": [],
      "source": [
        "# 6113875"
      ]
    },
    {
      "cell_type": "markdown",
      "source": [
        "https://github.com/vahagnIV/tf_calib"
      ],
      "metadata": {
        "id": "HHRtt1M3fd-a"
      }
    },
    {
      "cell_type": "markdown",
      "source": [
        "https://jimmy-ai.tistory.com/67"
      ],
      "metadata": {
        "id": "f8fFiHaE4c7U"
      }
    }
  ]
}