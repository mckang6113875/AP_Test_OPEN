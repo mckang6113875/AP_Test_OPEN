{
  "nbformat": 4,
  "nbformat_minor": 0,
  "metadata": {
    "colab": {
      "name": "Temp.ipynb",
      "provenance": [],
      "authorship_tag": "ABX9TyMJZEUwzmuBlqxYbEz7mhJQ",
      "include_colab_link": true
    },
    "kernelspec": {
      "name": "python3",
      "display_name": "Python 3"
    },
    "language_info": {
      "name": "python"
    }
  },
  "cells": [
    {
      "cell_type": "markdown",
      "metadata": {
        "id": "view-in-github",
        "colab_type": "text"
      },
      "source": [
        "<a href=\"https://colab.research.google.com/github/mckang6113875/AP_Test_OPEN/blob/main/Temp.ipynb\" target=\"_parent\"><img src=\"https://colab.research.google.com/assets/colab-badge.svg\" alt=\"Open In Colab\"/></a>"
      ]
    },
    {
      "cell_type": "code",
      "source": [
        "# 6113875"
      ],
      "metadata": {
        "id": "aGUS92IJZM47"
      },
      "execution_count": null,
      "outputs": []
    },
    {
      "cell_type": "markdown",
      "source": [
        "https://blog.naver.com/PostView.nhn?blogId=chai1226&logNo=221944798109&parentCategoryNo=&categoryNo=&viewDate=&isShowPopularPosts=false&from=postView"
      ],
      "metadata": {
        "id": "Bqiz4I0GKXvC"
      }
    },
    {
      "cell_type": "markdown",
      "source": [
        "https://github.com/alexvbogdan/DeepCalib.git"
      ],
      "metadata": {
        "id": "QJTaIkcWK57t"
      }
    },
    {
      "cell_type": "markdown",
      "source": [
        "https://colab.research.google.com/github/alexvbogdan/DeepCalib.git"
      ],
      "metadata": {
        "id": "BiCxnVCCLE4x"
      }
    },
    {
      "cell_type": "code",
      "source": [
        "#"
      ],
      "metadata": {
        "id": "gPXGgzsfK192"
      },
      "execution_count": null,
      "outputs": []
    }
  ]
}