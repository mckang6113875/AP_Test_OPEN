{
  "nbformat": 4,
  "nbformat_minor": 0,
  "metadata": {
    "colab": {
      "name": "FishEye_test.ipynb",
      "provenance": [],
      "authorship_tag": "ABX9TyNhOcfE9eghdi82tRDsQfWi",
      "include_colab_link": true
    },
    "kernelspec": {
      "name": "python3",
      "display_name": "Python 3"
    },
    "language_info": {
      "name": "python"
    }
  },
  "cells": [
    {
      "cell_type": "markdown",
      "metadata": {
        "id": "view-in-github",
        "colab_type": "text"
      },
      "source": [
        "<a href=\"https://colab.research.google.com/github/mckang6113875/AP_Test_OPEN/blob/main/FishEye_test.ipynb\" target=\"_parent\"><img src=\"https://colab.research.google.com/assets/colab-badge.svg\" alt=\"Open In Colab\"/></a>"
      ]
    },
    {
      "cell_type": "code",
      "execution_count": 1,
      "metadata": {
        "colab": {
          "base_uri": "https://localhost:8080/",
          "height": 284
        },
        "id": "QuS2NBBakE5O",
        "outputId": "08e664f2-8e76-4631-883c-4f5466a22b34"
      },
      "outputs": [
        {
          "output_type": "stream",
          "name": "stdout",
          "text": [
            "(6, 9)\n",
            "img end\n"
          ]
        },
        {
          "output_type": "error",
          "ename": "NameError",
          "evalue": "ignored",
          "traceback": [
            "\u001b[0;31m---------------------------------------------------------------------------\u001b[0m",
            "\u001b[0;31mNameError\u001b[0m                                 Traceback (most recent call last)",
            "\u001b[0;32m<ipython-input-1-46c94c439df2>\u001b[0m in \u001b[0;36m<module>\u001b[0;34m()\u001b[0m\n\u001b[1;32m     40\u001b[0m         \u001b[0mobjpoints\u001b[0m\u001b[0;34m,\u001b[0m\u001b[0;34m\u001b[0m\u001b[0;34m\u001b[0m\u001b[0m\n\u001b[1;32m     41\u001b[0m         \u001b[0mimgpoints\u001b[0m\u001b[0;34m,\u001b[0m\u001b[0;34m\u001b[0m\u001b[0;34m\u001b[0m\u001b[0m\n\u001b[0;32m---> 42\u001b[0;31m         \u001b[0mgray\u001b[0m\u001b[0;34m.\u001b[0m\u001b[0mshape\u001b[0m\u001b[0;34m[\u001b[0m\u001b[0;34m:\u001b[0m\u001b[0;34m:\u001b[0m\u001b[0;34m-\u001b[0m\u001b[0;36m1\u001b[0m\u001b[0;34m]\u001b[0m\u001b[0;34m,\u001b[0m\u001b[0;34m\u001b[0m\u001b[0;34m\u001b[0m\u001b[0m\n\u001b[0m\u001b[1;32m     43\u001b[0m         \u001b[0mK\u001b[0m\u001b[0;34m,\u001b[0m\u001b[0;34m\u001b[0m\u001b[0;34m\u001b[0m\u001b[0m\n\u001b[1;32m     44\u001b[0m         \u001b[0mD\u001b[0m\u001b[0;34m,\u001b[0m\u001b[0;34m\u001b[0m\u001b[0;34m\u001b[0m\u001b[0m\n",
            "\u001b[0;31mNameError\u001b[0m: name 'gray' is not defined"
          ]
        }
      ],
      "source": [
        "import cv2\n",
        "# assert cv2.__version__[0] == '3', 'The fisheye module requires opencv version >= 3.0.0'\n",
        "import numpy as np\n",
        "import os\n",
        "import glob\n",
        "\n",
        "CHECKERBOARD = (6,9)\n",
        "\n",
        "print(CHECKERBOARD)\n",
        "subpix_criteria = (cv2.TERM_CRITERIA_EPS+cv2.TERM_CRITERIA_MAX_ITER, 30, 0.1)\n",
        "calibration_flags = cv2.fisheye.CALIB_RECOMPUTE_EXTRINSIC+cv2.fisheye.CALIB_CHECK_COND+cv2.fisheye.CALIB_FIX_SKEW\n",
        "objp = np.zeros((1, CHECKERBOARD[0]*CHECKERBOARD[1], 3), np.float32)\n",
        "objp[0,:,:2] = np.mgrid[0:CHECKERBOARD[0], 0:CHECKERBOARD[1]].T.reshape(-1, 2)\n",
        "_img_shape = None\n",
        "objpoints = [] # 3d point in real world space\n",
        "imgpoints = [] # 2d points in image plane.\n",
        "images = glob.glob('source/*.jpg')\n",
        "for fname in images:\n",
        "    img = cv2.imread(fname)\n",
        "    if _img_shape == None:\n",
        "        _img_shape = img.shape[:2]\n",
        "    else:\n",
        "        assert _img_shape == img.shape[:2], \"All images must share the same size.\"\n",
        "    gray = cv2.cvtColor(img,cv2.COLOR_BGR2GRAY)\n",
        "    # Find the chess board corners\n",
        "    ret, corners = cv2.findChessboardCorners(gray, CHECKERBOARD, cv2.CALIB_CB_ADAPTIVE_THRESH+cv2.CALIB_CB_FAST_CHECK+cv2.CALIB_CB_NORMALIZE_IMAGE)\n",
        "    # If found, add object points, image points (after refining them)\n",
        "    if ret == True:\n",
        "        objpoints.append(objp)\n",
        "        cv2.cornerSubPix(gray,corners,(3,3),(-1,-1),subpix_criteria)\n",
        "        imgpoints.append(corners)\n",
        "\n",
        "print('img end')\n",
        "N_OK = len(objpoints)\n",
        "K = np.zeros((3, 3))\n",
        "D = np.zeros((4, 1))\n",
        "rvecs = [np.zeros((1, 1, 3), dtype=np.float64) for i in range(N_OK)]\n",
        "tvecs = [np.zeros((1, 1, 3), dtype=np.float64) for i in range(N_OK)]\n",
        "rms, _, _, _, _ = \\\n",
        "    cv2.fisheye.calibrate(\n",
        "        objpoints,\n",
        "        imgpoints,\n",
        "        gray.shape[::-1],\n",
        "        K,\n",
        "        D,\n",
        "        rvecs,\n",
        "        tvecs,\n",
        "        calibration_flags,\n",
        "        (cv2.TERM_CRITERIA_EPS+cv2.TERM_CRITERIA_MAX_ITER, 30, 1e-6)\n",
        "    )\n",
        "print(\"Found \" + str(N_OK) + \" valid images for calibration\")\n",
        "print(\"DIM=\" + str(_img_shape[::-1]))\n",
        "print(\"K=np.array(\" + str(K.tolist()) + \")\")\n",
        "print(\"D=np.array(\" + str(D.tolist()) + \")\")"
      ]
    },
    {
      "cell_type": "code",
      "source": [
        "import numpy as np\n",
        "import cv2\n",
        "import sys\n",
        "import os\n",
        "\n",
        "# You should replace these 3 lines with the output in calibration step\n",
        "DIM=##\n",
        "K=##\n",
        "D=##\n",
        "\n",
        "def undistort(img_path):\n",
        "    img = cv2.imread(img_path)\n",
        "    h,w = img.shape[:2]\n",
        "    map1, map2 = cv2.fisheye.initUndistortRectifyMap(K, D, np.eye(3), K, DIM, cv2.CV_16SC2)\n",
        "    undistorted_img = cv2.remap(img, map1, map2, interpolation=cv2.INTER_LINEAR, borderMode=cv2.BORDER_CONSTANT)\n",
        "    # cv2.imshow(\"undistorted\", undistorted_img)\n",
        "    # cv2.waitKey(0)\n",
        "    # cv2.destroyAllWindows()\n",
        "    cv2.imwrite('out_' + os.path.basename(img_path), undistorted_img)\n",
        "if __name__ == '__main__':\n",
        "    for p in sys.argv[1:]:\n",
        "        undistort(p)"
      ],
      "metadata": {
        "id": "mBTgYQRvkmQ8"
      },
      "execution_count": null,
      "outputs": []
    }
  ]
}